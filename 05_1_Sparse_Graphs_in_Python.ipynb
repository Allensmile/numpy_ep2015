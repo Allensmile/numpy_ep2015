{
 "cells": [
  {
   "cell_type": "markdown",
   "metadata": {},
   "source": [
    "## Scipy Sparse Matrix\n",
    "\n",
    "There are several sparse formats that can be useful for various problems:\n",
    "\n",
    "- `CSR` (compressed sparse row)\n",
    "- `CSC` (compressed sparse column)\n",
    "- `BSR` (block sparse row)\n",
    "- `COO` (coordinate)\n",
    "- `DIA` (diagonal)\n",
    "- `DOK` (dictionary of keys)\n",
    "\n",
    "The ``scipy.sparse`` submodule also has a lot of functions for sparse matrices\n",
    "including linear algebra, sparse solvers, graph algorithms, and much more."
   ]
  },
  {
   "cell_type": "markdown",
   "metadata": {},
   "source": [
    "### Preamble\n",
    "The following notebook contains code and explanations extracted from the Post [\"Sparse Graphs in Python: Playing with Word Ladders\"](http://jakevdp.github.io/blog/2012/10/14/scipy-sparse-graph-module-word-ladders/ \"Scipy Sparse Graphs\") of the Blog [Pythonic Perambulations](http://jakevdp.github.io) bu Jake Vanderplas."
   ]
  },
  {
   "cell_type": "markdown",
   "metadata": {},
   "source": [
    "Let's Play with Word Ladders\n",
    "----------------------------\n",
    "\n",
    "[Word Ladders](http://en.wikipedia.org/wiki/Word_ladder) is a game invented by the famous English writer and mathematician **Charles Lutwidge Dodgson**, better known by the name of [Lewis Carroll](http://en.wikipedia.org/wiki/Lewis_Carroll).\n",
    "\n",
    "A *World Ladder* puzzle begins with two words, and to solve the puzzle one must find a chain of other words to link the two, in which two adjacent words (that is, words in successive steps) differ by only one letter.\n",
    "\n",
    "For example, Lewis Carroll found that only six steps were required for the word `APE` to *evolve* to `MAN` [\\[1\\]][1]:\n",
    "\n",
    "`APE -> APT -> OPT -> OAT -> MAT -> MAN`\n",
    "\n",
    "---\n",
    "[1]: http://books.google.com/books?isbn=0198662645 \"Oxford Guide to Word Games\""
   ]
  },
  {
   "cell_type": "markdown",
   "metadata": {},
   "source": [
    "### Math Games and Computer Science\n",
    "\n",
    "Like many others Mathematical Games, Word Ladders fed the interests of many Computer Scientists. The most famous algorithmic contribution to this game has been provided by [Don Knuth](http://en.wikipedia.org/wiki/Donald_Knuth). \n",
    "\n",
    "He studied five-letters word ladders, as he believed that three-letters word ladders were too easy, and that six-letters word ladders were less interesting, since relatively few pairs of English words could be connected [\\[2\\]][2].\n",
    "\n",
    "Knuth used a fixed collection of 5,757 of the most common English five-letters words, and discovered that most words were connected to each other. \n",
    "Only 671 words of the collection did not form a word ladder with any other words. \n",
    "He called these words *aloof*, because the word `aloof` is itself an example of such a word [\\[2\\]][2].\n",
    "\n",
    "---\n",
    "[2]: http://books.google.com/books?isbn=0883855550 \"The Edge of the Universe: Celebrating Ten Years of Math Horizons\""
   ]
  },
  {
   "cell_type": "code",
   "execution_count": 1,
   "metadata": {
    "collapsed": false
   },
   "outputs": [
    {
     "name": "stdout",
     "output_type": "stream",
     "text": [
      "Populating the interactive namespace from numpy and matplotlib\n"
     ]
    }
   ],
   "source": [
    "# Inject Numpy and Matplotlib in the current namespace\n",
    "%pylab inline"
   ]
  },
  {
   "cell_type": "code",
   "execution_count": 2,
   "metadata": {
    "collapsed": false
   },
   "outputs": [],
   "source": [
    "import numpy as np\n",
    "from scipy.sparse import csgraph"
   ]
  },
  {
   "cell_type": "code",
   "execution_count": 3,
   "metadata": {
    "collapsed": false
   },
   "outputs": [
    {
     "data": {
      "text/plain": [
       "235886"
      ]
     },
     "execution_count": 3,
     "metadata": {},
     "output_type": "execute_result"
    }
   ],
   "source": [
    "# Obtaining the list of words\n",
    "wordlist = open('/usr/share/dict/words').read().split()\n",
    "len(wordlist)"
   ]
  },
  {
   "cell_type": "code",
   "execution_count": 4,
   "metadata": {
    "collapsed": false
   },
   "outputs": [
    {
     "data": {
      "text/plain": [
       "(1135,)"
      ]
     },
     "execution_count": 4,
     "metadata": {},
     "output_type": "execute_result"
    }
   ],
   "source": [
    "wordlist = filter(lambda w: len(w) == 3, wordlist) #keep 3-letter words\n",
    "wordlist = filter(str.isalpha, list(wordlist)) # no punctuation\n",
    "wordlist = filter(str.islower, list(wordlist)) # no proper nouns or acronyms\n",
    "\n",
    "wordlist = np.sort(list(wordlist))\n",
    "wordlist.shape"
   ]
  },
  {
   "cell_type": "markdown",
   "metadata": {},
   "source": [
    "## Word Ladders as a Graph"
   ]
  },
  {
   "cell_type": "markdown",
   "metadata": {},
   "source": [
    "Before detailing the adopted representation, we need to introduce the **Ladder relationship** $\\lambda$:\n",
    "\n",
    "> #### The Ladder Relationship:\n",
    "> Given two strings $s_i, s_j \\in \\Sigma^*$ such that\n",
    "> $s_i = \\langle c_1 c_2 \\cdots c_k \\rangle$ and $s_j = \\langle c_1 c_2 \\cdots c_l \\rangle$, we say that\n",
    "> the *Ladder relationship* holds for $s_i$ and $s_j$ if and only if    \n",
    ">    \n",
    "$$\n",
    " k = l \\land \\exists! n, 1 \\leq n \\leq k : c_n \\in s_i \\land c_n \\not \\in s_j\n",
    "$$  \n",
    "> In other words, the two strings $s_i$ and $s_j$ differ by only *one* character.  \n",
    "> We indicate this relationship by $s_i \\lambda s_j$\n",
    "\n",
    "The *Ladder Relation* defines a relationships among words (i.e., two words are related if they differ by only one character) that could be used to derive a Graph-based representation of the problem at the hand.\n",
    "\n",
    "In more details, we may represent the *Word Ladders* as an undirected (and unweighted) Graph $G=(V,E)$, where the set of vertices $V \\subseteq \\Sigma^*$, while the set $E$ fo edges is defined as\n",
    "$E = \\{(u, v): u,v \\in V \\wedge u \\lambda v \\}$\n",
    "\n",
    "Back to our example, the set $V$ will simply correspond to the obtained `wordlist`, so the set of edges $E$ will be represented by all the words in `wordlist` for which the Ladder relationship $lambda$ holds.\n",
    "\n",
    "In order to derive this set of edges, we may apply one of the several available [String Metrics](http://en.wikipedia.org/wiki/String_metric), such as the [Levenshtein distance](http://en.wikipedia.org/wiki/Levenshtein_distance) or the [Smith–Waterman Algorithm](http://en.wikipedia.org/wiki/Smith–Waterman_algorithm).   \n",
    "\n",
    "In particular, these two metrics are the two most widely adopted methods for string/sequence alignment. These algorithms accept two input strings of any length and compute their alignement in a time proportional to the product of their lenghths (i.e., $O(k*l)$).  \n",
    "\n",
    "However the $\\lambda$ relationship is more restrictive, since it considers only strings of the same length. \n",
    "\n",
    "Thus applying any of the two algorithms above will result in a computation that is quadratic in the length of input strings ($O(N^2)$).\n",
    "\n",
    "Alternatively, we may compute the [Hamming Distance](http://en.wikipedia.org/wiki/Hamming_distance), a distance metric borrowed from the Information Theory.   \n",
    "\n",
    "The Hamming distance between two words of the same lenght corresponds to the number of positions at which the corresponding letters in the words differ.\n",
    "\n",
    "An **naive** Python implementation would be:\n",
    "    \n",
    "```python\n",
    "    from itertools import izip\n",
    "    def hamming_distance(s1, s2):\n",
    "        if len(s1) != len(s2):\n",
    "            raise ValueError('The two input strings must be of the same length!')\n",
    "        return sum(c1 != c2 for c1, c2 in izip(s1, s2))\n",
    "```\n",
    "        \n",
    "Therefore the `hamming_distance` function works in time that is linear w.r.t. the length of the input words ($O(N)$)."
   ]
  },
  {
   "cell_type": "markdown",
   "metadata": {},
   "source": [
    "## Solving Word Ladders using Numpy/Scipy"
   ]
  },
  {
   "cell_type": "markdown",
   "metadata": {},
   "source": [
    "Now we need to figure out how to efficiently find all pairs of\n",
    "words which differ by a single letter.\n",
    "\n",
    "We'll do that by a numpy **type-wrangling** trick:\n",
    "\n",
    "* Converting the set of three-letter words (i.e., `wordlist`) into a `[wordlist.size x 3]` matrix of 8-bit integers \n",
    "    - (i.e., the `ASCII` code corresponding to each letter)"
   ]
  },
  {
   "cell_type": "code",
   "execution_count": 5,
   "metadata": {
    "collapsed": false
   },
   "outputs": [
    {
     "data": {
      "text/plain": [
       "(1135, 12)"
      ]
     },
     "execution_count": 5,
     "metadata": {},
     "output_type": "execute_result"
    }
   ],
   "source": [
    "word_bytes = np.ndarray((wordlist.size, wordlist.itemsize), \n",
    "                        dtype='int8',\n",
    "                        buffer=wordlist.data)\n",
    "word_bytes.shape # This will be 1135 x 3"
   ]
  },
  {
   "cell_type": "code",
   "execution_count": 6,
   "metadata": {
    "collapsed": false
   },
   "outputs": [
    {
     "data": {
      "text/plain": [
       "643545"
      ]
     },
     "execution_count": 6,
     "metadata": {},
     "output_type": "execute_result"
    }
   ],
   "source": [
    "from scipy.spatial.distance import pdist\n",
    "from scipy import sparse\n",
    "\n",
    "hamming_dist = pdist(word_bytes, metric='hamming')\n",
    "hamming_dist.size"
   ]
  },
  {
   "cell_type": "markdown",
   "metadata": {},
   "source": [
    "The `pdist(X, metric='hamming')` function of `scipy` calculates a length-normalized version of the *Hamming distance*, namely:    \n",
    "\n",
    "    sum(c1 != c2 for c1, c2 in izip(s1, s2)) / len(s1)\n",
    "    \n",
    "The function returns a *condensed* representation of the distance matrix, that is a `M x 1` array, where \n",
    "`M = N(N-1)/2` corresponding to the total number of compared pairs.\n",
    "\n",
    "In our case, the `hamming_dist` size is equal to `643545` (`(1135*1134)/2`)\n",
    "\n",
    "This structure is very important for our Graph-based representation model: we are going to manipulate this structure in order to define the *adjacency matrix* for the edge set $E$.    \n",
    "\n",
    "In more details, the definition of the adjacency matrix requires the following two steps:\n",
    "\n",
    "1. Transform the condensed array into a `N x N` square matrix;\n",
    "    \n",
    "2. Manipulate the square (distance) matrix in order to match the adjancency matrix representation.\n",
    "    * i.e., a matrix $A$ such as    \n",
    "        $ A_{i,j} = \\begin{cases} 1 &\\mbox{if } (i,j) \\in E \\equiv w_i \\lambda\\ w_j \\\\ 0 & \\mbox{otherwise} \\end{cases} $\n",
    "        \n",
    "Therefore, to end up with the desired matrix representation, we may apply the `scipy.spatial.distance.squareform(X)` function, which transforms a condensed input vector-form array `X` into a square matrix `Y`.    \n",
    "In order to correctly represent the content of the matrix $A$, we leverage the powerful capability of numpy for array indexing based on boolean expressions, i.e., `hamming_dist < 1.01/wordlist.itemsize`.    \n",
    "In fact, this expression matches all the words in the `wordlist` satisfying the $\\lambda$ relationships, namely their *normalized* hamming distance is equal to $\\frac{1}{3}$ (**remember:** we're considering only three-letters words).\n",
    "\n",
    "Finally, since the resulting **sparse** adjancency matrix will be very sparse, we're going to represent it efficiently by using the `scipy.sparse.csr_matrix` (*Compressed Sparse Row Matrix*) function."
   ]
  },
  {
   "cell_type": "code",
   "execution_count": 7,
   "metadata": {
    "collapsed": false
   },
   "outputs": [
    {
     "data": {
      "text/plain": [
       "(1135, 1135)"
      ]
     },
     "execution_count": 7,
     "metadata": {},
     "output_type": "execute_result"
    }
   ],
   "source": [
    "from scipy.spatial.distance import squareform\n",
    "hamming_dist_sqform = squareform(hamming_dist < 1.01/wordlist.itemsize)\n",
    "hamming_dist_sqform.shape"
   ]
  },
  {
   "cell_type": "markdown",
   "metadata": {},
   "source": [
    "### Insights on the `squareform` scipy function"
   ]
  },
  {
   "cell_type": "code",
   "execution_count": 8,
   "metadata": {
    "collapsed": false
   },
   "outputs": [],
   "source": [
    "squareform?"
   ]
  },
  {
   "cell_type": "code",
   "execution_count": 9,
   "metadata": {
    "collapsed": false
   },
   "outputs": [
    {
     "data": {
      "text/plain": [
       "(1135, 1135)"
      ]
     },
     "execution_count": 9,
     "metadata": {},
     "output_type": "execute_result"
    }
   ],
   "source": [
    "graph = sparse.csr_matrix(hamming_dist_sqform)\n",
    "graph.shape"
   ]
  },
  {
   "cell_type": "raw",
   "metadata": {},
   "source": [
    "To get a feeling for what this graph looks like, let's visualize it with matplotlib:"
   ]
  },
  {
   "cell_type": "code",
   "execution_count": 10,
   "metadata": {
    "collapsed": false
   },
   "outputs": [
    {
     "data": {
      "image/png": "[encoded data removed]",
      "text/plain": [
       "<matplotlib.figure.Figure at 0x104333208>"
      ]
     },
     "metadata": {},
     "output_type": "display_data"
    }
   ],
   "source": [
    "%matplotlib inline\n",
    "fig = plt.figure(figsize=(8, 8))\n",
    "ax = fig.add_subplot(1, 1, 1)\n",
    "ax.matshow(graph.toarray(), cmap=plt.cm.binary)\n",
    "\n",
    "# Label axes with the words\n",
    "def format_func(x, *args):\n",
    "    return wordlist[max(0, min(int(x), graph.shape[0]-1))]\n",
    "    \n",
    "ax.xaxis.set_major_formatter(plt.FuncFormatter(format_func))\n",
    "ax.yaxis.set_major_formatter(plt.FuncFormatter(format_func))"
   ]
  },
  {
   "cell_type": "code",
   "execution_count": 11,
   "metadata": {
    "collapsed": false
   },
   "outputs": [
    {
     "data": {
      "image/png": "[encoded data removed]",
      "text/plain": [
       "<matplotlib.figure.Figure at 0x104333208>"
      ]
     },
     "execution_count": 11,
     "metadata": {},
     "output_type": "execute_result"
    }
   ],
   "source": [
    "#Zooming on the Diagonal\n",
    "ax.set_xlim(93, 104)\n",
    "ax.set_ylim(104,93)\n",
    "fig"
   ]
  }
 ],
 "metadata": {
  "kernelspec": {
   "display_name": "Python 3",
   "language": "python",
   "name": "python3"
  },
  "language_info": {
   "codemirror_mode": {
    "name": "ipython",
    "version": 3
   },
   "file_extension": ".py",
   "mimetype": "text/x-python",
   "name": "python",
   "nbconvert_exporter": "python",
   "pygments_lexer": "ipython3",
   "version": "3.4.3"
  }
 },
 "nbformat": 4,
 "nbformat_minor": 0
}
